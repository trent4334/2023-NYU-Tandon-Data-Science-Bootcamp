{
 "cells": [
  {
   "cell_type": "code",
   "execution_count": 78,
   "id": "fe3e4211",
   "metadata": {},
   "outputs": [
    {
     "name": "stdout",
     "output_type": "stream",
     "text": [
      "1 3 5 7 9 "
     ]
    }
   ],
   "source": [
    "#1 Display numbers at the odd indices of a list\n",
    "\n",
    "l = [1,2,3,4,5,6,7,8,9,10]\n",
    "\n",
    "for i in range(0,len(l),2): #print from 0 to len(l) which is 10 and increments by 2\n",
    "    print(l[i], end = \" \")"
   ]
  },
  {
   "cell_type": "code",
   "execution_count": null,
   "id": "1ff2b2d3",
   "metadata": {},
   "outputs": [],
   "source": [
    "#2 Print a list in reverse order\n",
    "\n",
    "l = [1,2,3,4,5,6,7,8,9,10]\n",
    "\n",
    "for i in range(len(l),-1,-1):\n",
    "    print(i,end=\" \")"
   ]
  },
  {
   "cell_type": "code",
   "execution_count": null,
   "id": "19b2ab5d",
   "metadata": {},
   "outputs": [],
   "source": [
    "#3. Print a list in reverse order\n"
   ]
  },
  {
   "cell_type": "code",
   "execution_count": 3,
   "id": "f11a0111",
   "metadata": {},
   "outputs": [
    {
     "name": "stdout",
     "output_type": "stream",
     "text": [
      "10 9 8 7 6 5 4 3 2 1 "
     ]
    }
   ],
   "source": [
    "l = [1, 2, 3, 4, 5, 6, 7, 8, 9, 10]\n",
    "\n",
    "for i in range(len(l) - 1, -1, -1):\n",
    "    print(l[i], end=\" \")"
   ]
  },
  {
   "cell_type": "code",
   "execution_count": 89,
   "id": "3c57ae4b",
   "metadata": {},
   "outputs": [],
   "source": [
    "#4 Your task is to count the number of different words in this text\n",
    "\n",
    "string = \"\"\"\n",
    "ChatGPT has created this text to provide tips on creating interesting paragraphs. \n",
    "First, start with a clear topic sentence that introduces the main idea. \n",
    "Then, support the topic sentence with specific details, examples, and evidence.\n",
    "Vary the sentence length and structure to keep the reader engaged.\n",
    "Finally, end with a strong concluding sentence that summarizes the main points.\n",
    "Remember, practice makes perfect!\n",
    "\"\"\"\n",
    "\n"
   ]
  },
  {
   "cell_type": "code",
   "execution_count": 103,
   "id": "93fe1a81",
   "metadata": {},
   "outputs": [
    {
     "name": "stdout",
     "output_type": "stream",
     "text": [
      "Counter({'the': 5, 'sentence': 4, 'with': 3, 'to': 2, 'a': 2, 'topic': 2, 'that': 2, 'main': 2, 'and': 2, '\\nChatGPT': 1, 'has': 1, 'created': 1, 'this': 1, 'text': 1, 'provide': 1, 'tips': 1, 'on': 1, 'creating': 1, 'interesting': 1, 'paragraphs.': 1, '\\nFirst,': 1, 'start': 1, 'clear': 1, 'introduces': 1, 'idea.': 1, '\\nThen,': 1, 'support': 1, 'specific': 1, 'details,': 1, 'examples,': 1, 'evidence.\\nVary': 1, 'length': 1, 'structure': 1, 'keep': 1, 'reader': 1, 'engaged.\\nFinally,': 1, 'end': 1, 'strong': 1, 'concluding': 1, 'summarizes': 1, 'points.\\nRemember,': 1, 'practice': 1, 'makes': 1, 'perfect!\\n': 1})\n"
     ]
    }
   ],
   "source": [
    "from collections import Counter\n",
    "c = Counter(string.split(\" \"))\n",
    "print(c)"
   ]
  },
  {
   "cell_type": "code",
   "execution_count": 77,
   "id": "a978b495",
   "metadata": {},
   "outputs": [
    {
     "name": "stdout",
     "output_type": "stream",
     "text": [
      "Please put your sentence here: I was born to love you\n",
      "8\n"
     ]
    }
   ],
   "source": [
    "#Write a function that takes a word as an argument and returns the numeber of vowels in the word\n",
    "\n",
    "x = input('Please put your sentence here: ')\n",
    "\n",
    "        \n",
    "vowels = []\n",
    "\n",
    "i = 0\n",
    "\n",
    "while i < len(x):\n",
    "    if x[i] in ['a','e','i','o','u','A','E','I','O','U']:\n",
    "        vowels.append(x[i])\n",
    "    i+=1\n",
    "\n",
    "print(len(vowels))\n",
    "\n",
    "\n"
   ]
  },
  {
   "cell_type": "code",
   "execution_count": null,
   "id": "58446d2d",
   "metadata": {},
   "outputs": [],
   "source": []
  },
  {
   "cell_type": "code",
   "execution_count": 50,
   "id": "277454d4",
   "metadata": {},
   "outputs": [],
   "source": [
    "#Iterate through the following list of animals and print each one in all caps"
   ]
  },
  {
   "cell_type": "code",
   "execution_count": 62,
   "id": "ad3f4df4",
   "metadata": {},
   "outputs": [
    {
     "data": {
      "text/plain": [
       "['TIGER', 'ELEPHANT', 'MONKEY', 'ZEBRA', 'PANTHER']"
      ]
     },
     "execution_count": 62,
     "metadata": {},
     "output_type": "execute_result"
    }
   ],
   "source": [
    "animals=['tiger', 'elephant', 'monkey', 'zebra', 'panther']\n",
    "\n",
    "up_case = []\n",
    "\n",
    "i = 0\n",
    "\n",
    "while i < len(animals):\n",
    "    uppercase_animals = animals[i].upper()\n",
    "    up_case.append(uppercase_animals)\n",
    "    i+=1\n",
    "up_case\n"
   ]
  },
  {
   "cell_type": "code",
   "execution_count": 20,
   "id": "a9599781",
   "metadata": {},
   "outputs": [],
   "source": [
    "# Iterate from 1 to 15, printing whether the number is odd or even"
   ]
  },
  {
   "cell_type": "code",
   "execution_count": 41,
   "id": "22d0e7a1",
   "metadata": {},
   "outputs": [
    {
     "name": "stdout",
     "output_type": "stream",
     "text": [
      "Even number:  [2, 4, 6, 8, 10, 12, 14]\n",
      "Odd number:  [1, 3, 5, 7, 9, 11, 13, 15]\n"
     ]
    }
   ],
   "source": [
    "l = [1,2,3,4,5,6,7,8,9,10,11,12,13,14,15]\n",
    "\n",
    "odd = []\n",
    "even = []\n",
    "\n",
    "i = 0\n",
    "\n",
    "while i < len(l):\n",
    "    if l[i]%2==0:\n",
    "        even.append(l[i])\n",
    "    else:\n",
    "        odd.append(l[i])\n",
    "    i+=1\n",
    "\n",
    "print(\"Even number: \", even)\n",
    "print(\"Odd number: \", odd)"
   ]
  },
  {
   "cell_type": "code",
   "execution_count": null,
   "id": "90343c11",
   "metadata": {},
   "outputs": [],
   "source": [
    "#Take two integeres as input from user and return the sum"
   ]
  },
  {
   "cell_type": "code",
   "execution_count": 49,
   "id": "68bec8a2",
   "metadata": {},
   "outputs": [
    {
     "name": "stdout",
     "output_type": "stream",
     "text": [
      "Type your first number: 1\n",
      "Type your second number: 2\n",
      "The sum is: 3\n"
     ]
    }
   ],
   "source": [
    "x = input(\"Type your first number: \")\n",
    "y = input(\"Type your second number: \")\n",
    "\n",
    "x = int(x)\n",
    "y = int(y)\n",
    "\n",
    "z = x+y\n",
    "\n",
    "#return the sum\n",
    "print(\"The sum is:\", z)"
   ]
  }
 ],
 "metadata": {
  "kernelspec": {
   "display_name": "Python 3 (ipykernel)",
   "language": "python",
   "name": "python3"
  },
  "language_info": {
   "codemirror_mode": {
    "name": "ipython",
    "version": 3
   },
   "file_extension": ".py",
   "mimetype": "text/x-python",
   "name": "python",
   "nbconvert_exporter": "python",
   "pygments_lexer": "ipython3",
   "version": "3.9.13"
  }
 },
 "nbformat": 4,
 "nbformat_minor": 5
}
