{
 "cells": [
  {
   "cell_type": "code",
   "execution_count": 14,
   "id": "e5a9c7cb",
   "metadata": {},
   "outputs": [
    {
     "name": "stdout",
     "output_type": "stream",
     "text": [
      "A: \n",
      "[[10 22 23]\n",
      " [ 4  7  6]\n",
      " [23 28  9]\n",
      " [10  5 12]]\n",
      "B: \n",
      "[[10 22 23 23 28  9]\n",
      " [ 4  7  6 10  5 12]]\n"
     ]
    }
   ],
   "source": [
    "#Define two custom numpy arrays, say A and B. Generate two new numpy arrays by stacking A and B vertically and horizontally.\n",
    "\n",
    "import numpy as np\n",
    "\n",
    "A = np.array([[10,22,23,],[4,7,6]])\n",
    "B = np.array([[23,28,9],[10,5,12]])\n",
    "\n",
    "# Stack A and B vertically\n",
    "v_stack = np.vstack((A,B))\n",
    "\n",
    "# Stack A and B horizontally \n",
    "h_stack = np.hstack((A,B))\n",
    "\n",
    "\n",
    "print(\"A: \")\n",
    "print(v_stack)\n",
    "\n",
    "print(\"B: \")\n",
    "print(h_stack)"
   ]
  },
  {
   "cell_type": "code",
   "execution_count": 17,
   "id": "efa02375",
   "metadata": {},
   "outputs": [
    {
     "name": "stdout",
     "output_type": "stream",
     "text": [
      "A:\n",
      "[[10 22 23]\n",
      " [ 4  7  6]]\n",
      "B:\n",
      "[[23 28  9]\n",
      " [10  5 12]]\n",
      "Common Elements:\n",
      "[10 23]\n"
     ]
    }
   ],
   "source": [
    "# Flatten the NumPy arrays and convert them to sets (convert a multi-demensional array to one-demensional array)\n",
    "set_A = set(A.flatten())\n",
    "set_B = set(B.flatten())\n",
    "\n",
    "# Find the common elements (intersection)\n",
    "common_elements = set_A.intersection(set_B)\n",
    "\n",
    "# Convert the result back to a NumPy array\n",
    "common_elements_array = np.array(list(common_elements))\n",
    "\n",
    "print(\"A:\")\n",
    "print(A)\n",
    "\n",
    "print(\"B:\")\n",
    "print(B)\n",
    "\n",
    "print(\"Common Elements:\")\n",
    "print(common_elements_array)"
   ]
  },
  {
   "cell_type": "code",
   "execution_count": 20,
   "id": "3c0bb561",
   "metadata": {},
   "outputs": [
    {
     "name": "stdout",
     "output_type": "stream",
     "text": [
      "A:\n",
      "[[10 22 23]\n",
      " [ 4  7  6]]\n",
      "Numbers in the range (5,10) \n",
      "[10  7  6]\n"
     ]
    }
   ],
   "source": [
    "#Extract all numbers from A which are within a specific range. eg between 5 and 10. \n",
    "#[Hint: np.where() might be useful or boolean masks]\n",
    "\n",
    "# Create a custom NumPy array A\n",
    "A = np.array([[10, 22, 23], [4, 7, 6]])\n",
    "\n",
    "# Define the specific range\n",
    "lower_limit = 5\n",
    "upper_limit = 10\n",
    "\n",
    "# Create a Boolean mask for the elements within the specified range\n",
    "mask = (A >= lower_limit) & (A <= upper_limit)\n",
    "\n",
    "# Use the mask to extract the elements within the range\n",
    "elements_in_range = A[mask]\n",
    "\n",
    "print(\"A:\")\n",
    "print(A)\n",
    "\n",
    "print(\"Numbers in the range (5,10) \")\n",
    "print(elements_in_range)"
   ]
  },
  {
   "cell_type": "code",
   "execution_count": 22,
   "id": "d3e51614",
   "metadata": {},
   "outputs": [
    {
     "name": "stdout",
     "output_type": "stream",
     "text": [
      "Filtered Rows:\n",
      "[[4.8 3.4 1.6 0.2]\n",
      " [4.8 3.4 1.9 0.2]\n",
      " [4.7 3.2 1.6 0.2]\n",
      " [4.8 3.1 1.6 0.2]\n",
      " [4.9 2.4 3.3 1. ]\n",
      " [4.9 2.5 4.5 1.7]]\n"
     ]
    }
   ],
   "source": [
    "#Filter the rows of iris_2d that has petallength (3rd column) > 1.5 and sepallength (1st column) < 5.0\n",
    "\n",
    "import numpy as np\n",
    "\n",
    "url = 'https://archive.ics.uci.edu/ml/machine-learning-databases/iris/iris.data'\n",
    "iris_2d = np.genfromtxt(url, delimiter=',', dtype='float', usecols=[0, 1, 2, 3])\n",
    "\n",
    "# Create a Boolean mask to filter the rows\n",
    "mask = (iris_2d[:, 2] > 1.5) & (iris_2d[:, 0] < 5.0)\n",
    "\n",
    "# Use the mask to filter the rows of iris_2d\n",
    "filtered_rows = iris_2d[mask]\n",
    "\n",
    "print(\"Filtered Rows:\")\n",
    "print(filtered_rows)"
   ]
  }
 ],
 "metadata": {
  "kernelspec": {
   "display_name": "Python 3 (ipykernel)",
   "language": "python",
   "name": "python3"
  },
  "language_info": {
   "codemirror_mode": {
    "name": "ipython",
    "version": 3
   },
   "file_extension": ".py",
   "mimetype": "text/x-python",
   "name": "python",
   "nbconvert_exporter": "python",
   "pygments_lexer": "ipython3",
   "version": "3.9.13"
  }
 },
 "nbformat": 4,
 "nbformat_minor": 5
}
